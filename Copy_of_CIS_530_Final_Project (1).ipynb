{
  "nbformat": 4,
  "nbformat_minor": 0,
  "metadata": {
    "colab": {
      "provenance": []
    },
    "kernelspec": {
      "name": "python3",
      "display_name": "Python 3"
    },
    "language_info": {
      "name": "python"
    }
  },
  "cells": [
    {
      "cell_type": "markdown",
      "source": [
        "# CIS530 Final Project Assignment\n",
        "**Name:** _[Insert your name here]_\n",
        "\n",
        "Welcome to your individual assignment based on the *Dig* dataset from the book *Python for MBAs*. You will analyze the Dig case data to answer a unique business question using Python and pandas.\n",
        "\n",
        "This assignment is worth 25 points and will 'count' for your Quizzes 5-8 in the course.\n",
        "\n",
        "> 📝 **Instructions:**\n",
        ">\n",
        "> - Replace placeholders with your assigned business question.\n",
        "> - Include comments in your code to explain what each step does.\n",
        "> - Submit your completed notebook as a `.ipynb` file the Final Project Assignment link in Brightspace"
      ],
      "metadata": {
        "id": "j3L3stBmLUL7"
      }
    },
    {
      "cell_type": "code",
      "source": [
        "from google.colab import drive\n",
        "drive.mount('/content/drive')"
      ],
      "metadata": {
        "colab": {
          "base_uri": "https://localhost:8080/"
        },
        "id": "BF3xF4P0_FSn",
        "outputId": "bf2a8fa2-ac23-4811-ca6d-00aa589948d2"
      },
      "execution_count": null,
      "outputs": [
        {
          "output_type": "stream",
          "name": "stdout",
          "text": [
            "Mounted at /content/drive\n"
          ]
        }
      ]
    },
    {
      "cell_type": "markdown",
      "source": [
        "## 📌 Your Assigned Question\n",
        "> Replace the text below with **your specific question** from the assignment document:\n",
        "\n",
        "**Question**: _[Your unique business question goes here]_  "
      ],
      "metadata": {
        "id": "11UFQXCPL4Ms"
      }
    },
    {
      "cell_type": "markdown",
      "source": [
        "## 📂 Load and Inspect the Data\n",
        "\n",
        "In this section, you will load one (or more) of the four key data sets:\n",
        "- `Restaurants.csv`\n",
        "- `Items.csv`\n",
        "- `Simplified orders.csv`\n",
        "- `Summarized orders.csv`\n",
        "\n",
        "You can just import the data sets you need for your specific problem. You do not have to import any data that you do not need."
      ],
      "metadata": {
        "id": "18C6eqJ_L9py"
      }
    },
    {
      "cell_type": "code",
      "source": [
        "import pandas as pd\n",
        "df_orders = pd.read_csv(\"/content/drive/My Drive/CIS530 Data/Simplified orders.csv\")\n",
        "df_summarized_orders = pd.read_csv(\"/content/drive/My Drive/CIS530 Data/Summarized orders.csv\")\n",
        "df_restaurants=pd.read_csv(\"/content/drive/My Drive/CIS530 Data/Restaurants.csv\")\n",
        "df_items=pd.read_csv(\"/content/drive/My Drive/CIS530 Data/Items.csv\")\n",
        "df_simplified_orders=pd.read_csv(\"/content/drive/My Drive/CIS530 Data/Simplified orders.csv\")\n"
      ],
      "metadata": {
        "id": "QyF-WJRKMSVZ"
      },
      "execution_count": null,
      "outputs": []
    },
    {
      "cell_type": "markdown",
      "source": [
        "## 📈 Analysis 10 points\n",
        "\n",
        "This is the core of your work. Use appropriate pandas operations, filters, aggregations,visualizations, and any data frames that need to be merged to answer your assigned question.\n",
        "\n",
        "***Before you Begin:*** Only use Python or pandas functions from Chapters 5-7 in our text Python for MBAs. If you use any other functions or code that is not specifically from our text, a minimum of 5 points/marks will be deducted for this part of the assignment."
      ],
      "metadata": {
        "id": "UA8fljDjMiPA"
      }
    },
    {
      "cell_type": "code",
      "source": [
        "# your analysis code goes here\n",
        "#1.Checking the columns\n",
        "df_orders.columns\n",
        "\n",
        "# Filter orders where the DRINKS column is >= 1 (at least one drink)\n",
        "drink_orders = df_orders[df_orders['DRINKS'] >= 1]\n",
        "#Drink Upsells\n",
        "drink_upsells = len(drink_orders)\n",
        "print(drink_upsells)\n",
        "\n",
        "# Filter orders with at least one cookie\n",
        "cookie_orders = df_orders[df_orders['COOKIES'] >= 1]\n",
        "\n",
        "#Cookie Upsells\n",
        "cookie_upsells = len(cookie_orders)\n",
        "print(cookie_upsells)\n",
        "\n",
        "# Group by RESTAURANT_ID and count the number of orders with cookies\n",
        "drink_orders_per_restaurant = drink_orders.groupby('RESTAURANT_ID').size().sort_values(ascending=False)\n",
        "print(drink_orders_per_restaurant)\n",
        "\n",
        "\n",
        "# Group by RESTAURANT_ID and count the number of orders with cookie\n",
        "cookie_orders_per_restaurant = cookie_orders.groupby('RESTAURANT_ID').size().sort_values(ascending=False)\n",
        "print(cookie_orders_per_restaurant)\n",
        "\n",
        "\n",
        "\n",
        "# Calculate the total number of orders\n",
        "total_orders = len(df_orders)\n",
        "print(total_orders)\n",
        "\n",
        "#Calculate the drink upsell percentage per restaurant\n",
        "drink_upsell_percentage_per_restaurant = (drink_orders_per_restaurant / total_orders) * 100\n",
        "\n",
        "# Calculate the cookie upsell percentage per restaurant\n",
        "cookie_upsell_percentage_per_restaurant = (cookie_orders_per_restaurant / total_orders) * 100\n",
        "\n",
        "print(drink_upsell_percentage_per_restaurant)\n",
        "print(cookie_upsell_percentage_per_restaurant)\n",
        "\n",
        "\n",
        "\n",
        "\n",
        "\n",
        "print(df_restaurants.columns)\n",
        "# Merge cookie orders with restaurant names\n",
        "drink_upsell_percent_reset = drink_upsell_percentage_per_restaurant.reset_index()\n",
        "drink_upsell_percent_reset.columns = ['RESTAURANT_ID', 'Drink Upsell %']\n",
        "drink_merged = drink_upsell_percent_reset.merge(\n",
        "    df_restaurants[['RESTAURANT_ID', 'NAME']],\n",
        "    on='RESTAURANT_ID',\n",
        "    how='left'\n",
        ")\n",
        "\n",
        "\n",
        "\n",
        "# Merge drink orders with restaurant names\n",
        "drink_orders_per_restaurant = drink_orders_per_restaurant.reset_index()\n",
        "drink_orders_per_restaurant = drink_orders_per_restaurant.merge(\n",
        "    df_restaurants[['RESTAURANT_ID', 'NAME']],\n",
        "    on='RESTAURANT_ID',\n",
        "    how='left'\n",
        ")\n",
        "\n",
        "print(cookie_orders_per_restaurant)\n",
        "print(drink_orders_per_restaurant)\n",
        "\n",
        "\n",
        "\n",
        "\n",
        "# Sort the drink upsell percentages by restaurant in descending order\n",
        "sorted_drink_upsells = drink_upsell_percentage_per_restaurant.sort_values(ascending=False)\n",
        "print(sorted_drink_upsells.head())\n",
        "\n",
        "# Sort the cookie upsell percentages by restaurant in descending order\n",
        "sorted_cookie_upsells = cookie_upsell_percentage_per_restaurant.sort_values(ascending=False)\n",
        "print(sorted_cookie_upsells.head())\n",
        "\n",
        "# Set RESTAURANT_ID as index in df_restaurants for smooth merging\n",
        "df_restaurants_indexed = df_restaurants.set_index('RESTAURANT_ID')\n",
        "\n",
        "# Merge drink upsell % directly\n",
        "drink_merged = drink_upsell_percentage_per_restaurant.to_frame(name='Drink Upsell %').merge(\n",
        "    df_restaurants_indexed[['NAME']],\n",
        "    left_index=True,\n",
        "    right_index=True\n",
        ")\n",
        "\n",
        "# Merge cookie upsell % directly\n",
        "cookie_merged = cookie_upsell_percentage_per_restaurant.to_frame(name='Cookie Upsell %').merge(\n",
        "    df_restaurants_indexed[['NAME']],\n",
        "    left_index=True,\n",
        "    right_index=True\n",
        ")\n",
        "\n",
        "print(drink_merged)\n",
        "print(cookie_merged)\n",
        "\n",
        "\n",
        "\n"
      ],
      "metadata": {
        "id": "11uw0y8EMvZt",
        "colab": {
          "base_uri": "https://localhost:8080/"
        },
        "outputId": "51ccce2a-bd22-4e08-929f-22335d07ec30"
      },
      "execution_count": null,
      "outputs": [
        {
          "output_type": "stream",
          "name": "stdout",
          "text": [
            "187396\n",
            "476507\n",
            "RESTAURANT_ID\n",
            "R10002    33326\n",
            "R10004    26713\n",
            "R10006    26336\n",
            "R10008    24722\n",
            "R10005    22277\n",
            "R10007    22161\n",
            "R10003    18222\n",
            "R10001    13639\n",
            "dtype: int64\n",
            "RESTAURANT_ID\n",
            "R10004    85835\n",
            "R10002    65187\n",
            "R10008    62759\n",
            "R10007    56246\n",
            "R10005    56178\n",
            "R10006    54618\n",
            "R10001    49976\n",
            "R10003    45708\n",
            "dtype: int64\n",
            "2387224\n",
            "RESTAURANT_ID\n",
            "R10002    1.396015\n",
            "R10004    1.118998\n",
            "R10006    1.103206\n",
            "R10008    1.035596\n",
            "R10005    0.933176\n",
            "R10007    0.928317\n",
            "R10003    0.763313\n",
            "R10001    0.571333\n",
            "dtype: float64\n",
            "RESTAURANT_ID\n",
            "R10004    3.595599\n",
            "R10002    2.730661\n",
            "R10008    2.628953\n",
            "R10007    2.356126\n",
            "R10005    2.353277\n",
            "R10006    2.287929\n",
            "R10001    2.093478\n",
            "R10003    1.914693\n",
            "dtype: float64\n",
            "Index(['RESTAURANT_ID', 'NAME', 'ADDRESS', 'LAT', 'LONG', 'OPENING_DATE',\n",
            "       'DELIVERY_START'],\n",
            "      dtype='object')\n",
            "RESTAURANT_ID\n",
            "R10004    85835\n",
            "R10002    65187\n",
            "R10008    62759\n",
            "R10007    56246\n",
            "R10005    56178\n",
            "R10006    54618\n",
            "R10001    49976\n",
            "R10003    45708\n",
            "dtype: int64\n",
            "  RESTAURANT_ID      0             NAME\n",
            "0        R10002  33326          Midtown\n",
            "1        R10004  26713              NYU\n",
            "2        R10006  26336  Upper East Side\n",
            "3        R10008  24722     Williamsburg\n",
            "4        R10005  22277         Flatiron\n",
            "5        R10007  22161  Upper West Side\n",
            "6        R10003  18222      Bryant Park\n",
            "7        R10001  13639         Columbia\n",
            "RESTAURANT_ID\n",
            "R10002    1.396015\n",
            "R10004    1.118998\n",
            "R10006    1.103206\n",
            "R10008    1.035596\n",
            "R10005    0.933176\n",
            "dtype: float64\n",
            "RESTAURANT_ID\n",
            "R10004    3.595599\n",
            "R10002    2.730661\n",
            "R10008    2.628953\n",
            "R10007    2.356126\n",
            "R10005    2.353277\n",
            "dtype: float64\n",
            "               Drink Upsell %             NAME\n",
            "RESTAURANT_ID                                 \n",
            "R10002               1.396015          Midtown\n",
            "R10004               1.118998              NYU\n",
            "R10006               1.103206  Upper East Side\n",
            "R10008               1.035596     Williamsburg\n",
            "R10005               0.933176         Flatiron\n",
            "R10007               0.928317  Upper West Side\n",
            "R10003               0.763313      Bryant Park\n",
            "R10001               0.571333         Columbia\n",
            "               Cookie Upsell %             NAME\n",
            "RESTAURANT_ID                                  \n",
            "R10004                3.595599              NYU\n",
            "R10002                2.730661          Midtown\n",
            "R10008                2.628953     Williamsburg\n",
            "R10007                2.356126  Upper West Side\n",
            "R10005                2.353277         Flatiron\n",
            "R10006                2.287929  Upper East Side\n",
            "R10001                2.093478         Columbia\n",
            "R10003                1.914693      Bryant Park\n"
          ]
        }
      ]
    },
    {
      "cell_type": "markdown",
      "source": [
        "## ✅ Conclusion 15 points\n",
        "\n",
        "In this final section, clearly and explicitly connect your analysis to your assigned business question.\n",
        "\n",
        "> Your conclusion **must include** the following:\n",
        "\n",
        "- **Restate your specific business question** in one sentence.\n",
        "- **Explain how your analysis and visualizations directly answer that question.**\n",
        "- Reference the **specific final chart, table, or summary statistic** that provides the answer.\n",
        "- Comment briefly on any **key implications** for the business.\n",
        "- Ensure that the referenced visualization or table is present, labeled, and interpretable by a business audience.\n",
        "\n",
        "🎯 **Your analysis is not complete unless this section clearly demonstrates how your final output answers the business question.**\n",
        "\n",
        "Business Question:\n",
        "Do certain restaurants have higher cookie or drink upsell rates, and can this inform targeted upselling strategies?\n",
        "\n",
        "Conclusion:\n",
        "\n",
        "Our analysis of upsell percentages across eight restaurant locations reveals clear differences in performance, with NYU and Midtown locations leading in both cookie and drink upsells. This indicates that upselling success is location-dependent and can guide more focused strategies.\n",
        "\n",
        "Key Table: Restaurant Upsell Performance Overview\n",
        "\n",
        "\n",
        "Restaurant\tDrink Upsells %\t    Cookie Upsells %\n",
        "NYU\t              1.12%\t            3.6%\n",
        "Midtown\t          1.4%\t            2.73%\n",
        "Williamsburg\t    1.04%\t            2.63%\n",
        "Upper West Side\t  0.93%\t            2.36%\n",
        "Flatiron          0.93%           \t2.35%\n",
        "Upper East Side\t  1.1%\t            2.29%\n",
        "Columbia\t        0.57%\t            2.09%\n",
        "Bryant Park\t      0.76%\t            1.91%\n",
        "\n",
        "\n",
        "Key implications for the business include the opportunity to learn from high-performing locations like NYU and Midtown, which show strong performance in both drink and cookie upsells. Restaurants with lower upsell rates, such as Columbia and Bryant Park, might benefit from targeted training or new strategies to encourage more drink and cookie purchases. Understanding these differences can lead to more effective and location-specific upselling initiatives.\n"
      ],
      "metadata": {
        "id": "_neEealHM8JR"
      }
    }
  ]
}